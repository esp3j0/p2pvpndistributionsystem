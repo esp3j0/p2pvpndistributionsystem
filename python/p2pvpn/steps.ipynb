{
 "cells": [
  {
   "attachments": {},
   "cell_type": "markdown",
   "metadata": {},
   "source": [
    "### 密钥创建类"
   ]
  },
  {
   "attachments": {},
   "cell_type": "markdown",
   "metadata": {},
   "source": [
    "正在测试节点名称为1是否好用  ok好用\n",
    "\n",
    "下一步是测试生成的节点是否可用 ok 好用\n",
    "\n",
    "使我的主机加入网络试试 unreachable 的  可用中转"
   ]
  },
  {
   "attachments": {},
   "cell_type": "markdown",
   "metadata": {},
   "source": [
    "### 报错:\n",
    "-1 网络号未使用私有地址\n",
    "\n",
    "-2 目前仅支持A,B,C类地址\n",
    "\n",
    "-3 当前网络不支持这么多主机"
   ]
  },
  {
   "cell_type": "code",
   "execution_count": 1,
   "metadata": {},
   "outputs": [],
   "source": [
    "import os\n",
    "import uuid\n",
    "import shutil\n",
    "import ipaddress\n",
    "class nodes_builder():\n",
    "    totleNodes = 0\n",
    "    confDir = \"\"\n",
    "    uuid = \"\"\n",
    "    network = \"\"\n",
    "    netmask = \"\"\n",
    "    def __init__(self,num,network=\"10.1.0.0/24\"):\n",
    "        self.totleNodes = num\n",
    "        self.network = ipaddress.IPv4Network(network)\n",
    "        if not self.network.is_private:\n",
    "            print(\"error -1\")\n",
    "        if not(self.network.netmask.exploded == '255.255.255.0' or\n",
    "            self.network.netmask.exploded == '255.255.0.0' or\n",
    "            self.network.netmask.exploded == '255.0.0.0'):\n",
    "            print(\"error -2\")\n",
    "        if num > self.network.num_addresses-2:\n",
    "            print(\"error -3\")\n",
    "        self.netmask = self.network.netmask.exploded\n",
    "    def BuildUuid6(self):\n",
    "        self.uuid = uuid.uuid4().hex[:6]\n",
    "    def BuildConfigDir(self):\n",
    "        if not os.path.exists('./configs'):\n",
    "            os.mkdir('./configs')\n",
    "        self.confDir = './configs/config-'+self.uuid+'/'\n",
    "        if not os.path.exists(self.confDir):\n",
    "            os.mkdir(self.confDir)\n",
    "            for i in range(1,self.totleNodes+1):\n",
    "                os.mkdir(self.confDir+str(i))\n",
    "                os.mkdir(self.confDir+str(i)+'/'+'security')\n",
    "                os.mkdir(self.confDir+str(i)+'/'+'ed25519')\n",
    "            return True\n",
    "        else:\n",
    "            return False\n",
    "    def BuildSecurity(self):\n",
    "        for i in range(1,self.totleNodes+1):\n",
    "            pathToPrivateKey = self.confDir + str(i) + \"/security/\" + str(i)+ \".private\"\n",
    "            pathToPublicKey = self.confDir + str(i) + \"/security/\" + str(i)+ \".public\"\n",
    "            os.system(\"./gnb_crypto -c -p \"+pathToPrivateKey+\" -k \"+pathToPublicKey)\n",
    "    def BuildEd25519(self):\n",
    "        for i in range(1,self.totleNodes+1):\n",
    "            pathToPublicKey = self.confDir + str(i) + \"/security/\" + str(i)+ \".public\"\n",
    "            for i in range(1,self.totleNodes+1):\n",
    "                pathToEd25519 = self.confDir + str(i) + \"/ed25519\"\n",
    "                os.system(\"cp \"+pathToPublicKey+\" \"+pathToEd25519)\n",
    "    def BuildAddressConf(self):\n",
    "        for i in range(1,self.totleNodes+1):\n",
    "            pathToNode = self.confDir + str(i)\n",
    "            os.system(\"cp ./defaultConf/address.conf \"+ pathToNode)\n",
    "    def BuildNodeConf(self):\n",
    "        for i in range(1,self.totleNodes+1):\n",
    "            pathToNode = self.confDir + str(i)\n",
    "            os.system(\"cp ./defaultConf/node.conf \"+ pathToNode)\n",
    "            os.system(\"sed -i 's/\\$nodeid/\"+str(i)+\"/g' \"+pathToNode+\"/node.conf\")\n",
    "    def BuildRouteConf(self):\n",
    "        route = \"\"\n",
    "        for i in range(1,self.totleNodes+1):\n",
    "            route+=str(i)+'|'+(self.network.network_address+i).exploded+'|'+self.netmask+'\\n'\n",
    "        print(route)\n",
    "        for i in range(1,self.totleNodes+1):\n",
    "            with open(self.confDir+str(i)+'/route.conf','w') as f:\n",
    "                f.write(route)\n",
    "                f.close()\n",
    "    def BuildBinary(self):\n",
    "        for i in range(1,self.totleNodes+1):\n",
    "            os.system(\"cp -r ./bin/ \"+self.confDir+str(i))\n",
    "        \n",
    "    def BuildAll(self):\n",
    "        self.BuildUuid6()\n",
    "        self.BuildConfigDir()\n",
    "        self.BuildSecurity()\n",
    "        self.BuildEd25519()\n",
    "        self.BuildAddressConf()\n",
    "        self.BuildNodeConf()\n",
    "        self.BuildRouteConf()\n",
    "        self.BuildBinary()\n",
    "            \n",
    "    def CleanConf(self):\n",
    "        if os.path.exists('./configs'):\n",
    "            shutil.rmtree('./configs')\n",
    "        \n"
   ]
  },
  {
   "cell_type": "code",
   "execution_count": 4,
   "metadata": {},
   "outputs": [],
   "source": [
    "a = nodes_builder(7)\n"
   ]
  },
  {
   "cell_type": "code",
   "execution_count": 5,
   "metadata": {},
   "outputs": [
    {
     "name": "stdout",
     "output_type": "stream",
     "text": [
      "1|10.1.0.1|255.255.255.0\n",
      "2|10.1.0.2|255.255.255.0\n",
      "3|10.1.0.3|255.255.255.0\n",
      "4|10.1.0.4|255.255.255.0\n",
      "5|10.1.0.5|255.255.255.0\n",
      "6|10.1.0.6|255.255.255.0\n",
      "7|10.1.0.7|255.255.255.0\n",
      "\n"
     ]
    }
   ],
   "source": [
    "a.BuildAll()"
   ]
  },
  {
   "cell_type": "code",
   "execution_count": 5,
   "metadata": {},
   "outputs": [],
   "source": [
    "a.CleanConf()"
   ]
  },
  {
   "cell_type": "code",
   "execution_count": 3,
   "metadata": {},
   "outputs": [
    {
     "data": {
      "text/plain": [
       "'/home/esp3j0/code/python/p2pvpn'"
      ]
     },
     "execution_count": 3,
     "metadata": {},
     "output_type": "execute_result"
    }
   ],
   "source": [
    "os.popen(\"pwd\").read()[:-1]"
   ]
  },
  {
   "cell_type": "code",
   "execution_count": null,
   "metadata": {},
   "outputs": [],
   "source": []
  }
 ],
 "metadata": {
  "kernelspec": {
   "display_name": "p2pvpn",
   "language": "python",
   "name": "python3"
  },
  "language_info": {
   "codemirror_mode": {
    "name": "ipython",
    "version": 3
   },
   "file_extension": ".py",
   "mimetype": "text/x-python",
   "name": "python",
   "nbconvert_exporter": "python",
   "pygments_lexer": "ipython3",
   "version": "3.8.15"
  },
  "orig_nbformat": 4,
  "vscode": {
   "interpreter": {
    "hash": "c08eb48fd28cfc37c868b6272aaca41ebd2260ac485ad10452862ceb0260883f"
   }
  }
 },
 "nbformat": 4,
 "nbformat_minor": 2
}
